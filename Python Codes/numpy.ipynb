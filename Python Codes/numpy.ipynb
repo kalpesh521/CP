{
 "cells": [
  {
   "cell_type": "code",
   "execution_count": 1,
   "metadata": {},
   "outputs": [
    {
     "name": "stdout",
     "output_type": "stream",
     "text": [
      "[[ 2  3  5  1]\n",
      " [ 4  5  3  7]\n",
      " [ 9  5  3  1]\n",
      " [ 4  3 27  7]]\n",
      "arr2\n",
      "[[ 1637740243 -1064951612]\n",
      " [ 1722355208  1674775202]]\n",
      "[[0 0 0]\n",
      " [0 0 0]\n",
      " [0 0 0]]\n",
      "int32\n",
      "(4, 4)\n",
      "2\n",
      "int32\n"
     ]
    }
   ],
   "source": [
    "import numpy as np\n",
    "#Creating an array\n",
    "arr=np.array([[2,3,5,1],\n",
    "             [4,5,3,7],\n",
    "             [9,5,3,1],\n",
    "             [4,3,27,7]])\n",
    "print(arr)\n",
    "\n",
    "print(\"arr2\")\n",
    "arr2=np.empty([2,2],dtype=int)\n",
    "print(arr2)\n",
    "arr3=np.zeros([3,3],dtype=int)\n",
    "print(arr3)\n",
    "\n",
    "print(arr.dtype)\n",
    "print(arr.shape)\n",
    "print(arr.ndim)\n",
    "print(arr.dtype)"
   ]
  },
  {
   "cell_type": "code",
   "execution_count": 2,
   "metadata": {},
   "outputs": [
    {
     "data": {
      "text/plain": [
       "array([[2, 5],\n",
       "       [4, 3]])"
      ]
     },
     "execution_count": 2,
     "metadata": {},
     "output_type": "execute_result"
    }
   ],
   "source": [
    "#First two row with alternate columns\n",
    "sliced_arr=arr[:2,::2]\n",
    "sliced_arr"
   ]
  },
  {
   "cell_type": "code",
   "execution_count": 3,
   "metadata": {},
   "outputs": [
    {
     "data": {
      "text/plain": [
       "3"
      ]
     },
     "execution_count": 3,
     "metadata": {},
     "output_type": "execute_result"
    }
   ],
   "source": [
    "#Indexing an array\n",
    "index_arr=arr[1,2]\n",
    "index_arr\n"
   ]
  },
  {
   "cell_type": "code",
   "execution_count": 4,
   "metadata": {},
   "outputs": [
    {
     "name": "stdout",
     "output_type": "stream",
     "text": [
      "The array after opearion is \n",
      " [[ 3  4  6  2]\n",
      " [ 5  6  4  8]\n",
      " [10  6  4  2]\n",
      " [ 5  4 28  8]]\n",
      "The sum of array after opearion is \n",
      " 89\n",
      "Rowwise min value [1 5 2]\n",
      "columnwise max value [ 5 78  8]\n"
     ]
    }
   ],
   "source": [
    "# Basic Operation\n",
    "arr1=np.array([[1,2,3],\n",
    "               [5,67,7],\n",
    "              [2,78,8]])\n",
    "print(\"The array after opearion is \\n\",arr+1)\n",
    "print(\"The sum of array after opearion is \\n\",arr.sum())\n",
    "print(\"Rowwise min value\",arr1.min(axis =1))\n",
    "print(\"columnwise max value\",arr1.max(axis =0))#column\n",
    "\n"
   ]
  },
  {
   "cell_type": "code",
   "execution_count": 5,
   "metadata": {},
   "outputs": [
    {
     "data": {
      "text/plain": [
       "array([[ 2,  4,  9,  4],\n",
       "       [ 3,  5,  5,  3],\n",
       "       [ 5,  3,  3, 27],\n",
       "       [ 1,  7,  1,  7]])"
      ]
     },
     "execution_count": 5,
     "metadata": {},
     "output_type": "execute_result"
    }
   ],
   "source": [
    "#Methods\n",
    "from numpy import transpose\n",
    "sqr=np.sqrt(arr)\n",
    "sqr\n",
    "transpose=arr.T\n",
    "transpose"
   ]
  },
  {
   "cell_type": "code",
   "execution_count": 6,
   "metadata": {},
   "outputs": [
    {
     "name": "stdout",
     "output_type": "stream",
     "text": [
      "[ 4  5  6  7  8  9 10 11]\n",
      "Array having 2 rows and 4 columns\n",
      " [[ 4  5  6  7]\n",
      " [ 8  9 10 11]]\n",
      "Flatten [ 1  2  3  5 67  7  2 78  8]\n"
     ]
    },
    {
     "data": {
      "text/plain": [
       "array([10,  8,  6,  4])"
      ]
     },
     "execution_count": 6,
     "metadata": {},
     "output_type": "execute_result"
    }
   ],
   "source": [
    "#Flatten ,reshape and arrange Method\n",
    "arr4=np.arange(4,12)\n",
    "print(arr4)\n",
    "print(\"Array having 2 rows and 4 columns\\n\",arr4.reshape(2,4))\n",
    "print(\"Flatten\",arr1.flatten())\n",
    "arr5=np.arange(10,2,-2)\n",
    "arr5"
   ]
  },
  {
   "cell_type": "code",
   "execution_count": 7,
   "metadata": {},
   "outputs": [
    {
     "name": "stdout",
     "output_type": "stream",
     "text": [
      "[6 8 8]\n",
      "[3 5 5 3]\n",
      "[10  8]\n"
     ]
    }
   ],
   "source": [
    "#indexing multiple\n",
    "print(arr5[np.array([2,1,-3])])\n",
    "print(arr[...,1])\n",
    "print(arr5[arr5>6])"
   ]
  },
  {
   "cell_type": "code",
   "execution_count": 8,
   "metadata": {},
   "outputs": [
    {
     "name": "stdout",
     "output_type": "stream",
     "text": [
      "[[ 5  5]\n",
      " [10 10]]\n"
     ]
    }
   ],
   "source": [
    "arr6=np.array([[5,5],[4,3],[10,10]])\n",
    "b=arr6.sum(-1)\n",
    "print(arr6[b%10==0])"
   ]
  },
  {
   "cell_type": "code",
   "execution_count": 11,
   "metadata": {},
   "outputs": [
    {
     "name": "stdout",
     "output_type": "stream",
     "text": [
      "5\n",
      "4\n",
      "10\n",
      "5\n",
      "3\n",
      "10\n"
     ]
    }
   ],
   "source": [
    "#iterting array C and F class \n",
    "for i in np.nditer(arr6,order=\"F\"):\n",
    "    print(i)"
   ]
  },
  {
   "cell_type": "code",
   "execution_count": 19,
   "metadata": {},
   "outputs": [
    {
     "name": "stdout",
     "output_type": "stream",
     "text": [
      "[[ 25  25]\n",
      " [ 16   9]\n",
      " [100 100]]\n"
     ]
    }
   ],
   "source": [
    "for i in np.nditer(arr6,op_flags=['readwrite']):\n",
    "    i[...]=i**2\n",
    "print(arr6)"
   ]
  },
  {
   "cell_type": "code",
   "execution_count": 30,
   "metadata": {},
   "outputs": [
    {
     "name": "stdout",
     "output_type": "stream",
     "text": [
      "['india' 'country']\n",
      "['India', 'is', 'my', 'country']\n",
      "['i,n,d,i,a' 'C:o:u:n:t:r:y']\n",
      "[1 0 0]\n",
      "[-1  0 -1]\n"
     ]
    }
   ],
   "source": [
    "#string Operation\n",
    "print(np.char.lower([\"INDIA\",\"COUNTRY\"]))\n",
    "print(np.char.split('India is my country'))\n",
    "print(np.char.join([',',':'],['india','Country']))\n",
    "\n",
    "#counting a substring \n",
    "arr7=np.array(['kp','SP','PP'])\n",
    "print(np.char.count(arr7,'kp'))\n",
    "print(np.char.rfind(arr7,'SP'))"
   ]
  },
  {
   "cell_type": "code",
   "execution_count": 35,
   "metadata": {},
   "outputs": [
    {
     "name": "stdout",
     "output_type": "stream",
     "text": [
      "Sort by column\n",
      "[[ 2  3  3  1]\n",
      " [ 4  3  3  1]\n",
      " [ 4  5  5  7]\n",
      " [ 9  5 27  7]]\n",
      "Sort by rows\n",
      "[[ 1  2  3  5]\n",
      " [ 3  4  5  7]\n",
      " [ 1  3  5  9]\n",
      " [ 3  4  7 27]]\n",
      "[[ 1  2  3  5]\n",
      " [ 3  4  5  7]\n",
      " [ 1  3  5  9]\n",
      " [ 3  4  7 27]]\n",
      "[ 1  1  2  3  3  3  3  4  4  5  5  5  7  7  9 27]\n"
     ]
    }
   ],
   "source": [
    "#Searching ,sorting ,counting\n",
    "print(\"Sort by column\")\n",
    "print(np.sort(arr,axis=0))\n",
    "print(\"Sort by rows\")\n",
    "print(np.sort(arr,axis=1))\n",
    "print(np.sort(arr,axis=-1))\n",
    "print(np.sort(arr,axis=None))"
   ]
  },
  {
   "cell_type": "code",
   "execution_count": null,
   "metadata": {},
   "outputs": [],
   "source": []
  }
 ],
 "metadata": {
  "kernelspec": {
   "display_name": "Python 3.10.0 64-bit",
   "language": "python",
   "name": "python3"
  },
  "language_info": {
   "codemirror_mode": {
    "name": "ipython",
    "version": 3
   },
   "file_extension": ".py",
   "mimetype": "text/x-python",
   "name": "python",
   "nbconvert_exporter": "python",
   "pygments_lexer": "ipython3",
   "version": "3.10.0"
  },
  "orig_nbformat": 4,
  "vscode": {
   "interpreter": {
    "hash": "a42ccb73e7d9bfdf27e036f1d2b8b681e55fc0743cc5586bc2474d4a60f4b886"
   }
  }
 },
 "nbformat": 4,
 "nbformat_minor": 2
}
