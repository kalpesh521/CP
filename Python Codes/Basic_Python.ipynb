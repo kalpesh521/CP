 
age= 21
name = "virat"
print("My name is {one} , age is {two} and roll number is {two}".format(one=name,two=age))
